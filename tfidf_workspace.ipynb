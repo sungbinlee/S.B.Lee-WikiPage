{
 "cells": [
  {
   "cell_type": "code",
   "execution_count": 243,
   "id": "852a9c2d",
   "metadata": {},
   "outputs": [],
   "source": [
    "# 장고 셋팅\n",
    "import os\n",
    "import django\n",
    "os.environ.setdefault('DJANGO_SETTINGS_MODULE', 'rest.settings')\n",
    "os.environ[\"DJANGO_ALLOW_ASYNC_UNSAFE\"] = \"true\"\n",
    "django.setup()\n",
    "\n",
    "# 모델 임포트\n",
    "from board.models import Post"
   ]
  },
  {
   "cell_type": "code",
   "execution_count": 244,
   "id": "0c0abab2",
   "metadata": {},
   "outputs": [
    {
     "name": "stdout",
     "output_type": "stream",
     "text": [
      "Requirement already satisfied: pandas in ./venv/lib/python3.11/site-packages (2.1.3)\n",
      "Requirement already satisfied: numpy<2,>=1.23.2 in ./venv/lib/python3.11/site-packages (from pandas) (1.26.2)\n",
      "Requirement already satisfied: python-dateutil>=2.8.2 in ./venv/lib/python3.11/site-packages (from pandas) (2.8.2)\n",
      "Requirement already satisfied: pytz>=2020.1 in ./venv/lib/python3.11/site-packages (from pandas) (2023.3.post1)\n",
      "Requirement already satisfied: tzdata>=2022.1 in ./venv/lib/python3.11/site-packages (from pandas) (2023.3)\n",
      "Requirement already satisfied: six>=1.5 in ./venv/lib/python3.11/site-packages (from python-dateutil>=2.8.2->pandas) (1.16.0)\n",
      "Note: you may need to restart the kernel to use updated packages.\n"
     ]
    }
   ],
   "source": [
    "pip install pandas"
   ]
  },
  {
   "cell_type": "code",
   "execution_count": 234,
   "id": "aeb5cb13",
   "metadata": {},
   "outputs": [],
   "source": [
    "import pandas as pd"
   ]
  },
  {
   "cell_type": "code",
   "execution_count": 232,
   "id": "160e3abe",
   "metadata": {
    "scrolled": true
   },
   "outputs": [],
   "source": [
    "from sklearn.feature_extraction.text import TfidfVectorizer\n",
    "from sklearn.metrics.pairwise import cosine_similarity\n",
    "from sklearn.feature_extraction.text import CountVectorizer\n",
    "from collections import Counter"
   ]
  },
  {
   "cell_type": "code",
   "execution_count": 247,
   "id": "9e9cfff7",
   "metadata": {},
   "outputs": [],
   "source": [
    "# 전체 게시물 데이터 가져오기\n",
    "all_posts = Post.objects.all()\n",
    "all_posts_content = [post.content for post in all_posts]"
   ]
  },
  {
   "cell_type": "code",
   "execution_count": 248,
   "id": "df939bfd",
   "metadata": {},
   "outputs": [],
   "source": [
    "# 모든 게시물의 단어 빈도 계산\n",
    "all_words = [word for content in all_posts_content for word in content.split()]\n",
    "word_freq = Counter(all_words)"
   ]
  },
  {
   "cell_type": "code",
   "execution_count": 253,
   "id": "d61091d4",
   "metadata": {},
   "outputs": [
    {
     "data": {
      "text/html": [
       "<div>\n",
       "<style scoped>\n",
       "    .dataframe tbody tr th:only-of-type {\n",
       "        vertical-align: middle;\n",
       "    }\n",
       "\n",
       "    .dataframe tbody tr th {\n",
       "        vertical-align: top;\n",
       "    }\n",
       "\n",
       "    .dataframe thead th {\n",
       "        text-align: right;\n",
       "    }\n",
       "</style>\n",
       "<table border=\"1\" class=\"dataframe\">\n",
       "  <thead>\n",
       "    <tr style=\"text-align: right;\">\n",
       "      <th></th>\n",
       "      <th>Content</th>\n",
       "    </tr>\n",
       "  </thead>\n",
       "  <tbody>\n",
       "    <tr>\n",
       "      <th>35</th>\n",
       "      <td>건강한 아침 식사를 통해 하루를 건강하게 시작해보세요. 아침 식사는 에너지를 공급하...</td>\n",
       "    </tr>\n",
       "    <tr>\n",
       "      <th>34</th>\n",
       "      <td>제대로 된 아침 식사는 하루를 시작하는 데 중요합니다. 아침에 영양가 있는 식사를 ...</td>\n",
       "    </tr>\n",
       "    <tr>\n",
       "      <th>33</th>\n",
       "      <td>미래의 일자리는 변화하고 있습니다. 향후 노동시장은 기술 발전과 함께 다양한 형태로...</td>\n",
       "    </tr>\n",
       "    <tr>\n",
       "      <th>32</th>\n",
       "      <td>기후 변화는 우리 모두에게 큰 영향을 미치고 있습니다. 지구 온난화와 자연재해는 우...</td>\n",
       "    </tr>\n",
       "    <tr>\n",
       "      <th>31</th>\n",
       "      <td>여성들의 역할은 사회적으로 크게 확장되고 있습니다. 여성 리더들은 다양한 분야에서 ...</td>\n",
       "    </tr>\n",
       "    <tr>\n",
       "      <th>30</th>\n",
       "      <td>디지털 세상은 우리의 삶을 크게 변화시켰습니다. 인터넷과 모바일 기술은 우리의 일상...</td>\n",
       "    </tr>\n",
       "    <tr>\n",
       "      <th>29</th>\n",
       "      <td>사회적 책임은 개인과 기업이 사회와 환경에 대한 책임을 다하는 것을 의미합니다. 지...</td>\n",
       "    </tr>\n",
       "    <tr>\n",
       "      <th>28</th>\n",
       "      <td>과학과 기술의 발전은 우리 삶을 혁신시키고 있습니다. 첨단 기술은 우리의 생활을 편...</td>\n",
       "    </tr>\n",
       "    <tr>\n",
       "      <th>27</th>\n",
       "      <td>건강은 우리의 가장 소중한 자산 중 하나입니다. 우리는 몸과 마음을 동시에 챙겨야 ...</td>\n",
       "    </tr>\n",
       "    <tr>\n",
       "      <th>26</th>\n",
       "      <td>창의성은 새로운 아이디어와 혁신을 탄생시키는 원동력입니다. 창의성은 문제 해결 능력...</td>\n",
       "    </tr>\n",
       "    <tr>\n",
       "      <th>25</th>\n",
       "      <td>세계 각국의 문화는 다양성과 아름다움을 지니고 있습니다. 언어, 음식, 옷차림 등 ...</td>\n",
       "    </tr>\n",
       "    <tr>\n",
       "      <th>24</th>\n",
       "      <td>자연은 우리 주변에 놀라운 신비로움을 품고 있습니다. 산과 강, 숲과 바다는 우리에...</td>\n",
       "    </tr>\n",
       "    <tr>\n",
       "      <th>23</th>\n",
       "      <td>다른 사람들을 돕고 나눔으로써 우리는 봉사의 가치를 경험할 수 있습니다. 봉사는 우...</td>\n",
       "    </tr>\n",
       "    <tr>\n",
       "      <th>22</th>\n",
       "      <td>우리는 평생 학습하는 존재입니다. 새로운 것을 배우고 개발함으로써 우리는 성장하고 ...</td>\n",
       "    </tr>\n",
       "    <tr>\n",
       "      <th>21</th>\n",
       "      <td>우리의 삶에는 소중한 사람들이 있습니다. 건강한 관계는 서로를 이해하고 존중하는 것...</td>\n",
       "    </tr>\n",
       "    <tr>\n",
       "      <th>20</th>\n",
       "      <td>건강한 삶을 살기 위해서는 균형 잡힌 식습관과 운동이 중요합니다. 충분한 휴식과 스...</td>\n",
       "    </tr>\n",
       "    <tr>\n",
       "      <th>19</th>\n",
       "      <td>예술은 우리의 상상력을 자극합니다. 회화, 조각, 음악, 문학 등 예술은 다양한 형...</td>\n",
       "    </tr>\n",
       "    <tr>\n",
       "      <th>18</th>\n",
       "      <td>스포츠는 건강에 좋습니다. 운동을 통해 우리는 건강을 유지하고 몸을 강화시킬 수 있...</td>\n",
       "    </tr>\n",
       "    <tr>\n",
       "      <th>17</th>\n",
       "      <td>요리는 예술입니다. 음식을 만들고 다양한 재료와 조리법을 통해 새로운 맛을 탐험하는...</td>\n",
       "    </tr>\n",
       "    <tr>\n",
       "      <th>16</th>\n",
       "      <td>여행은 새로운 경험과 모험을 찾을 수 있는 훌륭한 방법입니다. 새로운 문화와 사람들...</td>\n",
       "    </tr>\n",
       "    <tr>\n",
       "      <th>15</th>\n",
       "      <td>자연은 우리의 삶에서 중요한 역할을 합니다. 자연과 소통하고 자연을 경험함으로써 우...</td>\n",
       "    </tr>\n",
       "    <tr>\n",
       "      <th>14</th>\n",
       "      <td>음악은 우리 삶에 강력한 영향을 미칩니다. 음악은 감정을 자극하고 우리의 기분을 변...</td>\n",
       "    </tr>\n",
       "    <tr>\n",
       "      <th>13</th>\n",
       "      <td>사이버 공격은 현대 사회에서 심각한 위협입니다. 개인 정보 유출, 시스템 침입 등의...</td>\n",
       "    </tr>\n",
       "    <tr>\n",
       "      <th>12</th>\n",
       "      <td>데이터 과학은 현대 사회에서 더욱 중요해지고 있습니다. 데이터를 분석하고 이를 통해...</td>\n",
       "    </tr>\n",
       "    <tr>\n",
       "      <th>11</th>\n",
       "      <td>기술은 환경 보호에도 큰 역할을 할 수 있습니다. 친환경 기술의 발전으로 인해 에너...</td>\n",
       "    </tr>\n",
       "    <tr>\n",
       "      <th>10</th>\n",
       "      <td>로봇 공학 기술은 산업혁명을 주도하는 중요한 요소 중 하나입니다. 인간의 노동력을 ...</td>\n",
       "    </tr>\n",
       "    <tr>\n",
       "      <th>9</th>\n",
       "      <td>블록체인 기술은 디지털 거래와 정보 전달에 혁신을 가져오고 있습니다. 분산형 거래 ...</td>\n",
       "    </tr>\n",
       "    <tr>\n",
       "      <th>8</th>\n",
       "      <td>인터넷은 우리의 삶을 지속적으로 변화시키고 있습니다. 더 빠르고 안전한 연결, 더 ...</td>\n",
       "    </tr>\n",
       "    <tr>\n",
       "      <th>7</th>\n",
       "      <td>의료 분야에서 인공지능은 혁신적인 발전을 이루고 있습니다. AI를 활용한 진단 및 ...</td>\n",
       "    </tr>\n",
       "    <tr>\n",
       "      <th>6</th>\n",
       "      <td>클라우드 컴퓨팅 기술은 기업의 IT 인프라를 혁신하고 있습니다. 전통적인 서버 기반...</td>\n",
       "    </tr>\n",
       "    <tr>\n",
       "      <th>5</th>\n",
       "      <td>사이버 보안은 현대 사회에서 심각한 과제 중 하나입니다. 기술 발전과 함께 사이버 ...</td>\n",
       "    </tr>\n",
       "    <tr>\n",
       "      <th>4</th>\n",
       "      <td>현대 비즈니스에서 데이터는 핵심 자원으로 간주되고 있습니다. 데이터 분석은 기업이 ...</td>\n",
       "    </tr>\n",
       "  </tbody>\n",
       "</table>\n",
       "</div>"
      ],
      "text/plain": [
       "                                              Content\n",
       "35  건강한 아침 식사를 통해 하루를 건강하게 시작해보세요. 아침 식사는 에너지를 공급하...\n",
       "34  제대로 된 아침 식사는 하루를 시작하는 데 중요합니다. 아침에 영양가 있는 식사를 ...\n",
       "33  미래의 일자리는 변화하고 있습니다. 향후 노동시장은 기술 발전과 함께 다양한 형태로...\n",
       "32  기후 변화는 우리 모두에게 큰 영향을 미치고 있습니다. 지구 온난화와 자연재해는 우...\n",
       "31  여성들의 역할은 사회적으로 크게 확장되고 있습니다. 여성 리더들은 다양한 분야에서 ...\n",
       "30  디지털 세상은 우리의 삶을 크게 변화시켰습니다. 인터넷과 모바일 기술은 우리의 일상...\n",
       "29  사회적 책임은 개인과 기업이 사회와 환경에 대한 책임을 다하는 것을 의미합니다. 지...\n",
       "28  과학과 기술의 발전은 우리 삶을 혁신시키고 있습니다. 첨단 기술은 우리의 생활을 편...\n",
       "27  건강은 우리의 가장 소중한 자산 중 하나입니다. 우리는 몸과 마음을 동시에 챙겨야 ...\n",
       "26  창의성은 새로운 아이디어와 혁신을 탄생시키는 원동력입니다. 창의성은 문제 해결 능력...\n",
       "25  세계 각국의 문화는 다양성과 아름다움을 지니고 있습니다. 언어, 음식, 옷차림 등 ...\n",
       "24  자연은 우리 주변에 놀라운 신비로움을 품고 있습니다. 산과 강, 숲과 바다는 우리에...\n",
       "23  다른 사람들을 돕고 나눔으로써 우리는 봉사의 가치를 경험할 수 있습니다. 봉사는 우...\n",
       "22  우리는 평생 학습하는 존재입니다. 새로운 것을 배우고 개발함으로써 우리는 성장하고 ...\n",
       "21  우리의 삶에는 소중한 사람들이 있습니다. 건강한 관계는 서로를 이해하고 존중하는 것...\n",
       "20  건강한 삶을 살기 위해서는 균형 잡힌 식습관과 운동이 중요합니다. 충분한 휴식과 스...\n",
       "19  예술은 우리의 상상력을 자극합니다. 회화, 조각, 음악, 문학 등 예술은 다양한 형...\n",
       "18  스포츠는 건강에 좋습니다. 운동을 통해 우리는 건강을 유지하고 몸을 강화시킬 수 있...\n",
       "17  요리는 예술입니다. 음식을 만들고 다양한 재료와 조리법을 통해 새로운 맛을 탐험하는...\n",
       "16  여행은 새로운 경험과 모험을 찾을 수 있는 훌륭한 방법입니다. 새로운 문화와 사람들...\n",
       "15  자연은 우리의 삶에서 중요한 역할을 합니다. 자연과 소통하고 자연을 경험함으로써 우...\n",
       "14  음악은 우리 삶에 강력한 영향을 미칩니다. 음악은 감정을 자극하고 우리의 기분을 변...\n",
       "13  사이버 공격은 현대 사회에서 심각한 위협입니다. 개인 정보 유출, 시스템 침입 등의...\n",
       "12  데이터 과학은 현대 사회에서 더욱 중요해지고 있습니다. 데이터를 분석하고 이를 통해...\n",
       "11  기술은 환경 보호에도 큰 역할을 할 수 있습니다. 친환경 기술의 발전으로 인해 에너...\n",
       "10  로봇 공학 기술은 산업혁명을 주도하는 중요한 요소 중 하나입니다. 인간의 노동력을 ...\n",
       "9   블록체인 기술은 디지털 거래와 정보 전달에 혁신을 가져오고 있습니다. 분산형 거래 ...\n",
       "8   인터넷은 우리의 삶을 지속적으로 변화시키고 있습니다. 더 빠르고 안전한 연결, 더 ...\n",
       "7   의료 분야에서 인공지능은 혁신적인 발전을 이루고 있습니다. AI를 활용한 진단 및 ...\n",
       "6   클라우드 컴퓨팅 기술은 기업의 IT 인프라를 혁신하고 있습니다. 전통적인 서버 기반...\n",
       "5   사이버 보안은 현대 사회에서 심각한 과제 중 하나입니다. 기술 발전과 함께 사이버 ...\n",
       "4   현대 비즈니스에서 데이터는 핵심 자원으로 간주되고 있습니다. 데이터 분석은 기업이 ..."
      ]
     },
     "execution_count": 253,
     "metadata": {},
     "output_type": "execute_result"
    }
   ],
   "source": [
    "# 전체 게시물 수\n",
    "total_documents = len(all_posts_content)\n",
    "total_documents\n",
    "all_posts_content = pd.DataFrame([post.content for post in all_posts], index=[post.id for post in all_posts], columns=[\"Content\"])\n",
    "all_posts_content"
   ]
  },
  {
   "cell_type": "code",
   "execution_count": 260,
   "id": "9ef9fe2c",
   "metadata": {},
   "outputs": [
    {
     "data": {
      "text/plain": [
       "<32x582 sparse matrix of type '<class 'numpy.float64'>'\n",
       "\twith 812 stored elements in Compressed Sparse Row format>"
      ]
     },
     "execution_count": 260,
     "metadata": {},
     "output_type": "execute_result"
    }
   ],
   "source": [
    "# TF-IDF 벡터화\n",
    "vectorizer = TfidfVectorizer(max_df=0.6)\n",
    "matrix = vectorizer.fit_transform(all_posts_content[\"Content\"])"
   ]
  },
  {
   "cell_type": "code",
   "execution_count": 256,
   "id": "664e4083",
   "metadata": {},
   "outputs": [],
   "source": [
    "# 단어와 인덱스 매핑\n",
    "feature_names = vectorizer.get_feature_names_out(matrix)\n",
    "word_index_mapping = {word: index for index, word in enumerate(feature_names)}"
   ]
  },
  {
   "cell_type": "code",
   "execution_count": 257,
   "id": "de569283",
   "metadata": {},
   "outputs": [],
   "source": [
    "# 40% 이하 빈도 단어 찾기\n",
    "low_freq_words = [word for word, freq in word_freq.items() if (freq / total_documents) <= 0.4]"
   ]
  },
  {
   "cell_type": "code",
   "execution_count": 265,
   "id": "a6ee6cf2",
   "metadata": {},
   "outputs": [],
   "source": [
    "# 필터링된 단어로만 이루어진 문서 만들기\n",
    "relevant_word_indices = [word_index_mapping[word] for word in low_freq_words if word in word_index_mapping]\n",
    "# relevant_tfidf_matrix = matrix[:, relevant_word_indices]"
   ]
  },
  {
   "cell_type": "code",
   "execution_count": 266,
   "id": "bf364e2a",
   "metadata": {},
   "outputs": [],
   "source": [
    "# 게시물 간의 유사도 계산\n",
    "# cosine_similarities = relevant_tfidf_matrix.dot(relevant_tfidf_matrix.T).toarray()\n",
    "cosine_similarities = cosine_similarity(matrix, matrix)\n",
    "indices = pd.Seris"
   ]
  },
  {
   "cell_type": "code",
   "execution_count": 267,
   "id": "80a23e9c",
   "metadata": {},
   "outputs": [
    {
     "data": {
      "text/plain": [
       "[(0, 0.3608222293679938),\n",
       " (1, 1.0),\n",
       " (2, 0.03587589168697479),\n",
       " (3, 0.0),\n",
       " (4, 0.0),\n",
       " (5, 0.0),\n",
       " (6, 0.0213922137973653),\n",
       " (7, 0.01578082265253914),\n",
       " (8, 0.02397802431965062),\n",
       " (9, 0.0),\n",
       " (10, 0.027474357082343255),\n",
       " (11, 0.05688209678250396),\n",
       " (12, 0.0),\n",
       " (13, 0.0),\n",
       " (14, 0.01205718918096888),\n",
       " (15, 0.014350166444458136),\n",
       " (16, 0.0),\n",
       " (17, 0.015884746164801358),\n",
       " (18, 0.017062926850630114),\n",
       " (19, 0.01477087168977966),\n",
       " (20, 0.010710430543151477),\n",
       " (21, 0.01594088209817108),\n",
       " (22, 0.0),\n",
       " (23, 0.0),\n",
       " (24, 0.0),\n",
       " (25, 0.0),\n",
       " (26, 0.0),\n",
       " (27, 0.0),\n",
       " (28, 0.010034433602942818),\n",
       " (29, 0.0),\n",
       " (30, 0.02255262785142815),\n",
       " (31, 0.02770238754494298)]"
      ]
     },
     "execution_count": 267,
     "metadata": {},
     "output_type": "execute_result"
    }
   ],
   "source": [
    "# 주어진 포스트와 다른 포스트의 연관성 평가\n",
    "related_posts_index = cosine_similarities[31].argsort()[::-1][1:6]\n",
    "related_posts_index"
   ]
  },
  {
   "cell_type": "code",
   "execution_count": 202,
   "id": "5772360f",
   "metadata": {},
   "outputs": [
    {
     "name": "stdout",
     "output_type": "stream",
     "text": [
      "<QuerySet [<Post: 아침식사 루틴>]>\n",
      "- 스포츠와 건강: 스포츠는 건강에 좋습니다. 운동을 통해 우리는 건강을 유지하고 몸을 강화시킬 수 있습니다. 또한 스포츠는 협동과 리더십을 배우며 스트레스를 해소할 수 있는 좋은 방법이 됩니다.\n",
      "- 요리의 즐거움: 요리는 예술입니다. 음식을 만들고 다양한 재료와 조리법을 통해 새로운 맛을 탐험하는 것은 즐거운 경험이 됩니다. 요리를 통해 우리는 창의성을 발휘하고 자신만의 특별한 요리를 만들어낼 수 있습니다.\n",
      "- 환경 보호와 기술의 역할: 기술은 환경 보호에도 큰 역할을 할 수 있습니다. 친환경 기술의 발전으로 인해 에너지 효율성이 향상되고 환경 오염이 줄어들 수 있습니다. 또한 데이터 기반의 모니터링과 예측은 환경 변화에 대한 대응을 돕습니다.\n"
     ]
    }
   ],
   "source": [
    "related_posts = Post.objects.filter(id__in=related_posts_index)\n",
    "print(Post.objects.filter(id=35))\n",
    "\n",
    "for post in related_posts:\n",
    "    print(f\"- {post.title}: {post.content}\")\n"
   ]
  },
  {
   "cell_type": "code",
   "execution_count": 230,
   "id": "ce01a7b8",
   "metadata": {},
   "outputs": [
    {
     "name": "stdout",
     "output_type": "stream",
     "text": [
      "Post ID: 35\n",
      "Document 0 Words: ['건강한', '아침', '식사를', '통해', '하루를', '건강하게', '시작해보세요.', '아침', '식사는', '에너지를', '공급하는', '동시에', '영양소를', '충분히', '섭취하는', '기회입니다.', '아침', '식사는', '곡물,', '단백질,', '그리고', '채소', '또는', '과일이', '조화롭게', '조합되어야', '해요.', '오트밀과', '신선한', '과일을', '함께', '즐기면', '영양', '섭취와', '에너지', '공급에', '도움이', '됩니다.', '건강한', '아침', '식사는', '소화를', '촉진하고', '활기찬', '하루를', '보내는', '데', '도움을', '줄', '거예요.']\n",
      "Similarity with Query Document: 0.3312437349584678\n",
      "Post ID: 34\n",
      "Document 1 Words: ['제대로', '된', '아침', '식사는', '하루를', '시작하는', '데', '중요합니다.', '아침에', '영양가', '있는', '식사를', '섭취하면', '에너지를', '얻을', '뿐만', '아니라', '올바른', '영양소를', '공급받을', '수', '있어요.', '아침', '식사에는', '곡물,', '단백질,', '과일', '또는', '채소가', '포함되어야', '합니다.', '예를', '들어,', '영양가', '풍부한', '오트밀과', '신선한', '과일을', '함께', '섭취하는', '것은', '멋진', '선택일', '수', '있어요.', '이런', '식사로', '소화가', '원활해지고', '하루', '내내', '에너지를', '유지할', '수', '있습니다.']\n",
      "Similarity with Query Document: 0.8515284728989944\n",
      "Post ID: 33\n",
      "Document 2 Words: ['미래의', '일자리는', '변화하고', '있습니다.', '향후', '노동시장은', '기술', '발전과', '함께', '다양한', '형태로', '진화할', '것입니다.', '미래를', '준비하기', '위해서는', '새로운', '기술과', '지식을', '습득하는', '것이', '중요합니다.']\n",
      "Similarity with Query Document: 0.020149408623694312\n",
      "Post ID: 29\n",
      "Document 6 Words: ['사회적', '책임은', '개인과', '기업이', '사회와', '환경에', '대한', '책임을', '다하는', '것을', '의미합니다.', '지속', '가능한', '발전과', '공정한', '사회를', '위해', '사회적', '책임을', '다하는', '것이', '중요합니다.', '사회적', '책임은', '우리가', '사는', '세상을', '더', '나은', '곳으로', '만들어갈', '수', '있는', '핵심', '가치입니다.']\n",
      "Similarity with Query Document: 0.01132304751348235\n",
      "Post ID: 28\n",
      "Document 7 Words: ['과학과', '기술의', '발전은', '우리', '삶을', '혁신시키고', '있습니다.', '첨단', '기술은', '우리의', '생활을', '편리하게', '만들고', '새로운', '가능성을', '제시합니다.', '혁신적인', '기술은', '미래를', '준비하고', '지속', '가능한', '세상을', '만들어갈', '수', '있는', '힘을', '갖고', '있습니다.']\n",
      "Similarity with Query Document: 0.01578082265253914\n",
      "Post ID: 25\n",
      "Document 10 Words: ['세계', '각국의', '문화는', '다양성과', '아름다움을', '지니고', '있습니다.', '언어,', '음식,', '옷차림', '등', '다양한', '측면에서', '문화는', '각자의', '독특한', '매력을', '갖추고', '있습니다.', '문화', '다양성을', '존중하고', '이해하는', '것은', '세계', '평화와', '조화로운', '공존을', '위해', '중요합니다.']\n",
      "Similarity with Query Document: 0.015430753675912474\n",
      "Post ID: 24\n",
      "Document 11 Words: ['자연은', '우리', '주변에', '놀라운', '신비로움을', '품고', '있습니다.', '산과', '강,', '숲과', '바다는', '우리에게', '자연의', '아름다움을', '보여줍니다.', '자연은', '생명력과', '에너지를', '전달하며', '우리에게', '평화를', '선사합니다.', '자연을', '통해', '우리는', '심신을', '치유하고', '창조적인', '영감을', '얻을', '수', '있습니다.']\n",
      "Similarity with Query Document: 0.056882096782503944\n",
      "Post ID: 18\n",
      "Document 17 Words: ['스포츠는', '건강에', '좋습니다.', '운동을', '통해', '우리는', '건강을', '유지하고', '몸을', '강화시킬', '수', '있습니다.', '또한', '스포츠는', '협동과', '리더십을', '배우며', '스트레스를', '해소할', '수', '있는', '좋은', '방법이', '됩니다.']\n",
      "Similarity with Query Document: 0.015884746164801358\n",
      "Post ID: 17\n",
      "Document 18 Words: ['요리는', '예술입니다.', '음식을', '만들고', '다양한', '재료와', '조리법을', '통해', '새로운', '맛을', '탐험하는', '것은', '즐거운', '경험이', '됩니다.', '요리를', '통해', '우리는', '창의성을', '발휘하고', '자신만의', '특별한', '요리를', '만들어낼', '수', '있습니다.']\n",
      "Similarity with Query Document: 0.017062926850630114\n",
      "Post ID: 16\n",
      "Document 19 Words: ['여행은', '새로운', '경험과', '모험을', '찾을', '수', '있는', '훌륭한', '방법입니다.', '새로운', '문화와', '사람들을', '만나며', '세계', '각지의', '아름다움을', '발견할', '수', '있습니다.', '여행은', '우리의', '시야를', '넓혀주고', '새로운', '관점을', '제시해줍니다.']\n",
      "Similarity with Query Document: 0.01477087168977966\n",
      "Post ID: 5\n",
      "Document 30 Words: ['사이버', '보안은', '현대', '사회에서', '심각한', '과제', '중', '하나입니다.', '기술', '발전과', '함께', '사이버', '공격은', '더욱', '지능적이고', '복잡해지고', '있습니다.', '해커들은', '더', '많은', '기술과', '도구를', '활용하여', '개인', '정보를', '탈취하고', '시스템을', '침입합니다.', '이에', '대한', '대비책과', '보안', '강화가', '필수적이며,', '기업과', '개인은', '보안에', '대한', '책임감을', '가지고', '대응해야', '합니다.']\n",
      "Similarity with Query Document: 0.01379986494513931\n",
      "Post ID: 4\n",
      "Document 31 Words: ['현대', '비즈니스에서', '데이터는', '핵심', '자원으로', '간주되고', '있습니다.', '데이터', '분석은', '기업이', '경쟁', '우위를', '차지하고', '혁신하는', '데에', '중요한', '역할을', '합니다.', '데이터로부터', '인사이트를', '얻고', '이를', '비즈니스', '전략에', '결합하는', '것은', '더', '나은', '의사결정을', '내릴', '수', '있게', '해줍니다.', '이러한', '데이터', '중심의', '접근은', '새로운', '기회를', '창출하고', '기존', '비즈니스', '모델을', '혁신하는', '데에', '중요한', '역할을', '합니다.']\n",
      "Similarity with Query Document: 0.012211609487221803\n"
     ]
    },
    {
     "data": {
      "text/plain": [
       "[35, 34, 33, 29, 28, 25, 24, 18, 17, 16, 5, 4]"
      ]
     },
     "execution_count": 230,
     "metadata": {},
     "output_type": "execute_result"
    }
   ],
   "source": [
    "# 각 문서의 ID, 단어들, 유사도 출력\n",
    "related_posts = []\n",
    "for i, post in enumerate(all_posts):\n",
    "    words = [word for word in post.content.split()]\n",
    "    similarity = cosine_similarities[1][i]\n",
    "    if similarity > 0:\n",
    "        related_posts.append(post.id)\n",
    "        print(f\"Post ID: {post.id}\")\n",
    "        print(f\"Document {i} Words: {words}\")\n",
    "        print(f\"Similarity with Query Document: {similarity}\")\n",
    "\n",
    "related_posts"
   ]
  },
  {
   "cell_type": "markdown",
   "id": "51a8b46f",
   "metadata": {},
   "source": [
    "# "
   ]
  },
  {
   "cell_type": "code",
   "execution_count": 217,
   "id": "81db16ed",
   "metadata": {},
   "outputs": [],
   "source": [
    "def find_related_posts(post_id):\n",
    "    posts = Post.objects.all()\n",
    "    all_posts_content = [post.content for post in all_posts]\n",
    "\n",
    "    related_posts = []\n",
    "    return related_posts\n"
   ]
  },
  {
   "cell_type": "code",
   "execution_count": 218,
   "id": "9664c356",
   "metadata": {},
   "outputs": [
    {
     "data": {
      "text/plain": [
       "[]"
      ]
     },
     "execution_count": 218,
     "metadata": {},
     "output_type": "execute_result"
    }
   ],
   "source": [
    "find_related_posts(1)"
   ]
  },
  {
   "cell_type": "code",
   "execution_count": null,
   "id": "b959dfb8",
   "metadata": {},
   "outputs": [],
   "source": []
  }
 ],
 "metadata": {
  "kernelspec": {
   "display_name": "Django Shell-Plus",
   "language": "python",
   "name": "django_extensions"
  },
  "language_info": {
   "codemirror_mode": {
    "name": "ipython",
    "version": 3
   },
   "file_extension": ".py",
   "mimetype": "text/x-python",
   "name": "python",
   "nbconvert_exporter": "python",
   "pygments_lexer": "ipython3",
   "version": "3.11.4"
  }
 },
 "nbformat": 4,
 "nbformat_minor": 5
}
